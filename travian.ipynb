{
 "cells": [
  {
   "cell_type": "code",
   "execution_count": 3,
   "metadata": {
    "collapsed": true
   },
   "outputs": [],
   "source": [
    "import requests\n",
    "from bs4 import BeautifulSoup"
   ]
  },
  {
   "cell_type": "code",
   "execution_count": 4,
   "outputs": [],
   "source": [
    "session = requests.Session()\n",
    "travian_url = 'https://tse.asia.travian.com'"
   ],
   "metadata": {
    "collapsed": false,
    "pycharm": {
     "name": "#%%\n"
    }
   }
  },
  {
   "cell_type": "code",
   "execution_count": 5,
   "outputs": [],
   "source": [
    "username = ''\n",
    "password = ''"
   ],
   "metadata": {
    "collapsed": false,
    "pycharm": {
     "name": "#%%\n"
    }
   }
  },
  {
   "cell_type": "markdown",
   "source": [
    "### 登入遊戲"
   ],
   "metadata": {
    "collapsed": false,
    "pycharm": {
     "name": "#%% md\n"
    }
   }
  },
  {
   "cell_type": "code",
   "execution_count": 7,
   "outputs": [
    {
     "name": "stdout",
     "output_type": "stream",
     "text": [
      "<!DOCTYPE html PUBLIC \"-//W3C//DTD XHTML 1.0 Transitional//EN\" \"http://www.w3.org/TR/xhtml1/DTD/xhtml1-transitional.dtd\">\n",
      "<html id=\"mainLayout\" xmlns=\"http://www.w3.org/1999/xhtml\">\n",
      " <head>\n",
      "  <title>\n",
      "   Shadow Empires - ASIA - 1x\n",
      "  </title>\n",
      "  <meta content=\"max-age=0\" http-equiv=\"cache-control\"/>\n",
      "  <meta content=\"no-cache\" http-equiv=\"pragma\"/>\n",
      "  <meta content=\"0\" http-equiv=\"expires\"/>\n",
      "  <meta content=\"no\" http-equiv=\"imagetoolbar\"/>\n",
      "  <meta content=\"text/html; charset=utf-8\" http-equiv=\"content-type\"/>\n",
      "  <meta content=\"en-US\" name=\"content-language\"/>\n",
      "  <meta content=\"width=device-width\" name=\"viewport\"/>\n",
      "  <link href=\"//gpack.travian.com/0134461a/mainPage/lang/en-US/compact.css\" rel=\"stylesheet\" type=\"text/css\"/>\n",
      "  <link href=\"//gpack.travian.com/0134461a/mainPage/lang/en-US/lang.css\" rel=\"stylesheet\" type=\"text/css\"/>\n",
      "  <script id=\"Cookiebot\" src=\"https://consent.cookiebot.com/uc.js?cbid=d8ef0137-9d41-4ab0-aae5-79eb202109a7&amp;framework=IAB\" type=\"text/javascript\">\n",
      "  </script>\n",
      "  <script src=\"/js/default/jquery-3.5.1.min.js\" type=\"text/javascript\">\n",
      "  </script>\n",
      "  <script src=\"/js/default/jquery.md5.min.js\" type=\"text/javascript\">\n",
      "  </script>\n",
      "  <script src=\"/js/default/d3/d3.min.js\" type=\"text/javascript\">\n",
      "  </script>\n",
      "  <script src=\"/js/default/d3/d3pie.min.js\" type=\"text/javascript\">\n",
      "  </script>\n",
      "  <script src=\"/js/default/gsap/minified/TweenMax.min.js\" type=\"text/javascript\">\n",
      "  </script>\n",
      "  <script src=\"/js/default/gsap/minified/plugins/MorphSVGPlugin.min.js\" type=\"text/javascript\">\n",
      "  </script>\n",
      "  <script src=\"/js/Game/General/General.js\" type=\"text/javascript\">\n",
      "  </script>\n",
      "  <script type=\"text/javascript\">\n",
      "   window.TravianDefaults = Object.assign(\n",
      "        {\"Map\":{\"Size\":{\"width\":401,\"height\":401,\"left\":-200,\"right\":200,\"bottom\":-200,\"top\":200}}},\n",
      "        {\"Season\":\"\"},\n",
      "        false || {}\n",
      "    );\n",
      "  </script>\n",
      "  <script src=\"/crypt-1601027506.js\" type=\"text/javascript\">\n",
      "  </script>\n",
      "  <script type=\"text/javascript\">\n",
      "   Travian.Translation.add({\n",
      "            'allgemein.anleitung': 'Instructions',\n",
      "            'allgemein.cancel': 'cancel',\n",
      "            'allgemein.ok': 'OK',\n",
      "            'allgemein.close': 'close',\n",
      "            'allgemein.close_with_capital_c': 'Close',\n",
      "            'cropfinder.keine_ergebnisse': 'No search results found.',\n",
      "            'raidList.choose_village': 'choose village'\n",
      "        });\n",
      "    Travian.applicationId = 'T4.4 Game';\n",
      "    Travian.Game.version = '4.4';\n",
      "    Travian.Game.worldId = 'com3232';\n",
      "    Travian.Game.speed = 1;\n",
      "    Travian.Game.country = 'com';\n",
      "    Travian.Templates = {\"ButtonTemplate\": \"<button >\\n\\t<\\/button>\\n\"};\n",
      "  </script>\n",
      "  <script type=\"text/javascript\">\n",
      "   Travian.Form.UnloadHelper.message = 'You have made changes. Do you really want to leave this page?';\n",
      "  </script>\n",
      " </head>\n",
      " <body class=\"login v35 en-US perspectiveBuildings ltr buildingsV3\">\n",
      "  <div id=\"reactDialogWrapper\">\n",
      "  </div>\n",
      "  <div class=\"\" id=\"background\">\n",
      "   <div id=\"topBar\">\n",
      "    <a href=\"https://www.travian.com/international\" id=\"logo\" target=\"_blank\" title=\"Travian\">\n",
      "     <svg viewbox=\"0 0 173.48 60\" xmlns=\"http://www.w3.org/2000/svg\" xmlns:xlink=\"http://www.w3.org/1999/xlink\">\n",
      "      <path d=\"M54.28 35.43l-2.79-.15c-.13 0-.75 0-1.88.15a1.33 1.33 0 00-.5.12l-.54-.06c0-.12.15-.21.35-.27a1 1 0 00.43-.24 4.72 4.72 0 00.41-1.79c.08-.88.19-2.4.34-4.57l.08-8.56c0-3-.15-4.49-.43-4.49a20.64 20.64 0 00-2.49.3c-1.11.2-1.8.34-2 .41a2 2 0 00-.86.59 2.43 2.43 0 00-.63 1h-.24v-.21s.09-.31.26-.81.25-1 .38-1.45c.27-.82.53-1.24.78-1.24l6.72.25h5a11.33 11.33 0 003-.37l.38.09c-.16.53-.32 1-.47 1.57a5.31 5.31 0 00-.23 1.45v.36a.25.25 0 01-.16.06s-.13-.18-.24-.54a4.6 4.6 0 00-.27-.82c-.3-.56-1.78-.84-4.42-.84h-.43l-.56.06a9.74 9.74 0 00-.32 2.77c-.06 1.09-.1 2.17-.14 3.26l-.1 6.57v3.92c0 .1 0 .53.08 1.29a3.11 3.11 0 00.32 1.27 1.14 1.14 0 00.73.45l.83.24a1 1 0 01-.39.23zm20.88 0a3 3 0 01-2.31-1A24.23 24.23 0 0171 31.54l-1.15-2.23a11.06 11.06 0 00-1.53-2.14 3.37 3.37 0 00-2.36-.6q-.27 0-.27.36v5.43c0 2 .47 3 1.42 3a.56.56 0 01.38.12l-.91.15H64.43a20.69 20.69 0 00-2.3.27 4.19 4.19 0 00.64-.69 11.69 11.69 0 00.23-3.42l.19-4.16v-2s0-.29.05-.76.06-.71.06-.75v-2l-.14-3.95a8.86 8.86 0 00-.56-2.95q0-.15-.27-.24l-.32-.12a1.74 1.74 0 01.59-.15l1.5-.06c.54 0 1.24 0 2.12-.06l2.79-.15a6.85 6.85 0 013.67 1 4.33 4.33 0 012.09 3.95 6.92 6.92 0 01-.77 3.32 9.53 9.53 0 01-1.64 2.11 8.92 8.92 0 00-1 1.12s.23.44.67 1.2c.63 1.09 1.08 1.89 1.37 2.42l1.45 2.71a8.42 8.42 0 001.66 2.23 1.75 1.75 0 00.64.36q.67.21.81.27a4.76 4.76 0 01-1.96.27h-.47zM71 25.49c.59-.55.88-1.76.88-3.65a8.17 8.17 0 00-1.39-4.34c-1.03-1.69-2.24-2.5-3.62-2.5H66l-.13 11.3h1.79c1.72-.03 2.85-.3 3.34-.81zm11.66 10c-.66-.07-1.14-.11-1.42-.11a9.94 9.94 0 002.48-3.6c.7-1.6 1.83-4.43 3.39-8.51 1.71-4.52 2.57-7 2.57-7.54a1.09 1.09 0 00-.32-.8 1.05 1.05 0 00-.75-.31h-.51a.31.31 0 01-.24-.12q0-.15.3-.21c.21 0 .4-.08.58-.1l3.06-.09c.41 0 .84.52 1.28 1.54.23.64.48 1.3.73 2q1.27 3.86 2.6 7.72a49.83 49.83 0 003.8 8.65 2.33 2.33 0 00.94.9 2.48 2.48 0 01.56.36l-3 .18c-1 0-2-.86-2.73-2.59-.45-1.17-.89-2.32-1.34-3.47-.34-1-.93-2.37-1.77-4.16h-5.41c-.27 0-.62.53-1 1.57-.21.63-.43 1.24-.64 1.84a13.33 13.33 0 00-1.07 4.1 1.63 1.63 0 00.85 1.66l2.1.75-3.57.45c-.32-.05-.78-.08-1.44-.15zm4.69-10.87h5.36v-.24s-.61-1.85-1.83-5.42a9.44 9.44 0 00-.77-1.72zm26.07-10.24q.51-.09.84.72a3.52 3.52 0 01.24 1.26q0 2-2.34 8.5-1.5 4.2-2.49 6.45-2.33-5.6-3.78-9.37c-.84-2.27-1.45-4-1.85-5.12-.51-1.41-.78-2.12-.8-2.14a4.58 4.58 0 00-1.63-.18h-1c-.73 0-1.28.05-1.64.05a.57.57 0 00-.56.27L99 15a.89.89 0 01.47.32A36.3 36.3 0 01103 22q1 2.29 2.78 7.11c1.09 3 1.71 4.58 1.85 4.89a7.64 7.64 0 001 1.89q4.16-11 9-21.79h-4.24zm7.75 3.62a6.43 6.43 0 01.06.76v6.75l-.1 4.91-.49 5.09h4.18a.55.55 0 00.11-.24 4.41 4.41 0 01-.72-.33 1.89 1.89 0 01-.3-.93c0-.33-.07-.65-.1-1v-9.64c.07-3.6.25-6.74.54-9.44h-.22c.07 0-.13.05-.6.14a9.33 9.33 0 01-1.7.13h-1.53a2.63 2.63 0 01.75 1.77c.09.68.1 1.34.12 2.03zm24.58 17.4c-1.05 0-2-.86-2.73-2.59-.45-1.17-.9-2.32-1.34-3.47-.34-1-.93-2.37-1.77-4.16h-5.42c-.26 0-.61.53-1 1.57l-.64 1.84a13.43 13.43 0 00-1.08 4.1 1.64 1.64 0 00.86 1.66c.7.26 1.39.51 2.09.75l-3.56.45c-.27 0-.74 0-1.4-.1s-1.13-.11-1.42-.11a9.71 9.71 0 002.48-3.6c.71-1.6 1.84-4.43 3.39-8.51 1.72-4.52 2.57-7 2.57-7.54a1.06 1.06 0 00-.32-.8 1 1 0 00-.75-.31h-.51a.31.31 0 01-.24-.12c0-.1.11-.17.31-.21s.4-.08.58-.1l3.05-.09c.41 0 .84.52 1.29 1.54.23.64.47 1.3.72 2q1.29 3.86 2.6 7.72a49.74 49.74 0 003.77 8.68 2.21 2.21 0 00.94.9 2.81 2.81 0 01.56.36zm-6-11.06s-.6-1.85-1.82-5.42a8.92 8.92 0 00-.78-1.72l-2.76 7.38h5.36zm29.72-10a6.84 6.84 0 00-2 .54 9 9 0 00-1.45.63c.22 0 .77 0 1.67-.09.21 0 .33.06.34.18.13 1.41.2 2.46.22 3.17.11 2.15.21 4.36.32 6.63l.13 4.64a.6.6 0 01-.08.36c-3.44-3.82-5.7-6.34-6.75-7.57a63 63 0 01-6.24-8.55c-2.15.16-3.77.31-4.88.45a4.84 4.84 0 012.52 2.41 8.43 8.43 0 01.4 3l-.19 3.68v1.69a37.83 37.83 0 01-.56 7.89 1.94 1.94 0 01-.7 1l-.86.69a8.77 8.77 0 002 .18 11.77 11.77 0 002.47-.33l2-.48a8.54 8.54 0 00-1.42-.18 2.45 2.45 0 01-1.36-.43.92.92 0 01-.33-.45 5.33 5.33 0 01-.13-.69c-.18-1.87-.27-3.21-.27-4-.1-3.88-.1-7.11 0-9.7 1.13 1.26 3.06 3.48 5.82 6.66q2.67 3.1 7.47 8.41a13.52 13.52 0 001.37 1.41.21.21 0 00.16-.06c.11-1.85.21-3.69.32-5.54q.3-5.4.3-6.15v-1.42c0-.26.18-2.56.56-6.9a4.78 4.78 0 011.31-.45 3.27 3.27 0 001.1-.45zM49.25 46.88a11.19 11.19 0 00-1.94-.55 4.62 4.62 0 01-1.74-.61 1 1 0 01-.34-.76 1.15 1.15 0 01.48-.92 2.5 2.5 0 011.53-.37 2.47 2.47 0 011.53.41 1.77 1.77 0 01.6 1.23l1.11-.08A2.48 2.48 0 0048.91 43a4.59 4.59 0 00-1.72-.31 4.11 4.11 0 00-1.6.3 2.24 2.24 0 00-1.1.86 2.14 2.14 0 00-.38 1.15 1.89 1.89 0 00.31 1.07 2.31 2.31 0 00.93.8 8.18 8.18 0 001.69.54 14.87 14.87 0 011.56.42 1.71 1.71 0 01.79.5 1.11 1.11 0 01.24.71 1.17 1.17 0 01-.25.73 1.51 1.51 0 01-.76.53 3.18 3.18 0 01-1.17.2 3.41 3.41 0 01-1.34-.26 1.93 1.93 0 01-.88-.67 2.25 2.25 0 01-.36-1.05l-1.09.09a2.82 2.82 0 001.74 2.57 5.23 5.23 0 002 .34 4.1 4.1 0 001.68-.34 2.58 2.58 0 001.15-.94 2.31 2.31 0 00.4-1.3 2.13 2.13 0 00-.36-1.22 2.64 2.64 0 00-1.14-.84zm10-.54h-4.53v-3.53h-1.16v8.59h1.16v-4h4.55v4h1.16v-8.59h-1.16zm7.93-3.53l3.58 8.59h-1.3l-1-2.6h-3.68l-1 2.6h-1.19L66 42.81zm.88 5.06l-.91-2.38c-.28-.72-.48-1.31-.62-1.78a10.88 10.88 0 01-.47 1.64l-1 2.52zM79.8 45a5.59 5.59 0 01.34 2 5.71 5.71 0 01-.23 1.73 4 4 0 01-.6 1.25 3.23 3.23 0 01-.79.78 3.13 3.13 0 01-1 .43 6 6 0 01-1.4.15h-3.21v-8.53h3a7.67 7.67 0 011.56.12 3 3 0 011.28.62A3.41 3.41 0 0179.8 45zm-.8 2a3.93 3.93 0 00-.5-2 2.25 2.25 0 00-1.1-1 4.51 4.51 0 00-1.5-.18h-1.83v6.57h1.86a4.81 4.81 0 001.36-.16 2.08 2.08 0 00.79-.45 2.72 2.72 0 00.64-1.08A5.36 5.36 0 0079 47zm11.49-2.23a5.46 5.46 0 010 4.65 3.71 3.71 0 01-1.6 1.58 4.41 4.41 0 01-2.12.53 4.2 4.2 0 01-2.21-.53 3.81 3.81 0 01-1.48-1.6 4.8 4.8 0 01-.5-2.14 4.62 4.62 0 011.17-3.35 4 4 0 013-1.21 4.26 4.26 0 012.19.57 3.7 3.7 0 011.5 1.54zm-.68 2.3a4.33 4.33 0 00-.36-1.83 2.67 2.67 0 00-1.06-1.21 2.86 2.86 0 00-1.56-.43 3 3 0 00-2.12.83 3.64 3.64 0 00-.88 2.76 3.38 3.38 0 00.85 2.45 3 3 0 004.28 0 3.57 3.57 0 00.8-2.53zm11.81 1.22c-.18.7-.33 1.33-.44 1.87a23.51 23.51 0 00-.68-3l-1.3-4.35h-1.4l-1.67 5.8q-.06.21-.39 1.59c-.1-.58-.23-1.17-.37-1.76L94 42.81h-1.15l2.32 8.59h1.19l1.85-6.54c.08-.28.17-.62.26-1 0 .12.12.46.27 1l1.85 6.54h1.11l2.4-8.59h-1.16zm10.59-.87H117v-1h-4.84v-2.6h5.17v-1H111v8.58h6.53v-1h-5.37zM125 48.79c-.21.6-.36 1.06-.46 1.37l-.42-1.27-2.12-6.08h-1.7v8.59h1.11v-7.31l2.53 7.31h1l2.54-7.19v7.19h1.12v-8.59h-1.56zm13.14-4.67a2.59 2.59 0 01.27 1.18 2.63 2.63 0 01-.71 1.85 3.45 3.45 0 01-2.57.76h-2.25v3.49h-1.15v-8.59H135a8.76 8.76 0 011.33.08 2.76 2.76 0 011.08.4 2.21 2.21 0 01.72.83zm-.93 1.21a1.48 1.48 0 00-.28-.92 1.23 1.23 0 00-.73-.51 5 5 0 00-1.08-.08h-2.24v3.07h2.27a2.39 2.39 0 001.59-.41 1.44 1.44 0 00.46-1.15zm4.07 6.07h1.15v-8.59h-1.15zm10.6-2.34l1.53 2.34h-1.46l-1.16-1.79c-.34-.51-.62-.91-.84-1.18a2.53 2.53 0 00-.58-.57 1.74 1.74 0 00-.53-.23 3.38 3.38 0 00-.65 0h-1.34v3.77h-1.16v-8.59h3.88a5.36 5.36 0 011.78.23 2 2 0 011 .82 2.41 2.41 0 01.36 1.29 2.17 2.17 0 01-.6 1.55 3.15 3.15 0 01-1.87.79 3.18 3.18 0 01.7.43 5.83 5.83 0 01.93 1.14zm-1.3-2.62a1.33 1.33 0 00.68-.51 1.38 1.38 0 00.24-.78 1.25 1.25 0 00-.46-1 2.13 2.13 0 00-1.42-.39h-2.77v2.84h2.49a3.73 3.73 0 001.23-.16zm6.3 1h4.85v-1h-4.85v-2.62h5.18v-1h-6.33v8.58h6.53v-1h-5.38zm13.26-.58a11.48 11.48 0 00-1.94-.55 4.77 4.77 0 01-1.75-.61 1 1 0 01-.34-.76 1.15 1.15 0 01.48-.92 2.5 2.5 0 011.53-.37 2.43 2.43 0 011.53.41 1.74 1.74 0 01.61 1.23l1.11-.08a2.63 2.63 0 00-.43-1.35 2.51 2.51 0 00-1.15-.91 4.5 4.5 0 00-1.71-.31 4.16 4.16 0 00-1.61.3 2.28 2.28 0 00-1.1.86A2.13 2.13 0 00165 45a2 2 0 00.3 1.07 2.34 2.34 0 00.94.8 7.77 7.77 0 001.69.54q1.2.29 1.56.42a1.67 1.67 0 01.78.5 1.11 1.11 0 01.24.71 1.23 1.23 0 01-.24.73 1.56 1.56 0 01-.76.53 3.26 3.26 0 01-1.17.2 3.34 3.34 0 01-1.34-.26 1.93 1.93 0 01-.88-.67 2.37 2.37 0 01-.37-1.05l-1.09.09a2.89 2.89 0 00.48 1.54 2.84 2.84 0 001.26 1 5.26 5.26 0 002 .34 4.14 4.14 0 001.69-.34 2.63 2.63 0 001.15-.94 2.31 2.31 0 00.4-1.3 2.13 2.13 0 00-.36-1.22 2.71 2.71 0 00-1.15-.81z\" fill=\"#1d1d1b\">\n",
      "      </path>\n",
      "      <image height=\"250\" transform=\"matrix(.24 0 0 .24 .22 .14)\" width=\"156\" xlink:href=\"data:image/png;base64,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\"/>\n",
      "     </svg>\n",
      "    </a>\n",
      "    <div id=\"header\">\n",
      "     <input id=\"mobileMenuState\" type=\"checkbox\"/>\n",
      "     <div id=\"navigation\">\n",
      "      <label class=\"mobileMenuButton\" for=\"mobileMenuState\">\n",
      "      </label>\n",
      "     </div>\n",
      "     <nav id=\"mobileMenu\">\n",
      "      <ul>\n",
      "       <li>\n",
      "        <a class=\"mainpage\" href=\"https://www.travian.com/international\" target=\"_blank\" title=\"Homepage\">\n",
      "         HOMEPAGE\n",
      "        </a>\n",
      "       </li>\n",
      "       <li>\n",
      "        <a class=\"login\" href=\"/login.php\" title=\"Login\">\n",
      "         LOGIN\n",
      "        </a>\n",
      "       </li>\n",
      "       <li>\n",
      "        <a class=\"register\" href=\"https://www.travian.com/international?server=75840000-f272-11ea-0a20-000000000000#register\" target=\"_blank\" title=\"Register\">\n",
      "         REGISTER\n",
      "        </a>\n",
      "       </li>\n",
      "       <li>\n",
      "        <a class=\"forum\" href=\"https://forum.travian.com/\" target=\"_blank\" title=\"Forum\">\n",
      "         FORUM\n",
      "        </a>\n",
      "       </li>\n",
      "       <li>\n",
      "        <a class=\"support\" href=\"http://support.travian.com/en/support/tickets/new\" target=\"blank\" title=\"Support\">\n",
      "         SUPPORT\n",
      "        </a>\n",
      "       </li>\n",
      "      </ul>\n",
      "      <svg class=\"divider\" viewbox=\"0 0 217.28 10.2\">\n",
      "       <path d=\"M78.66 7.51L0 5.1l78.66-2.41a18.49 18.49 0 0 0-.49 2.42 14.58 14.58 0 0 0 .49 2.4z\">\n",
      "       </path>\n",
      "       <path d=\"M75.94 6.08l-32.69-1 32.69-1a5.76 5.76 0 0 0-.27 1 4.64 4.64 0 0 0 .27 1zM139 7.51l78.32-.69L139 2.69a14.63 14.63 0 0 1 .74 2.56 9.31 9.31 0 0 1-.74 2.26z\">\n",
      "       </path>\n",
      "       <path d=\"M141.86 6.08l32.69-1-32.69-1a5.76 5.76 0 0 1 .27 1 4.64 4.64 0 0 1-.27 1zM84.82 5.1a2.31 2.31 0 1 1-4.6 0 2.31 2.31 0 1 1 4.6 0zM132.9 5.1a2.32 2.32 0 1 0 4.61 0 2.32 2.32 0 1 0-4.61 0zM104.142 5.095l5.099-5.098 5.098 5.098-5.098 5.098z\">\n",
      "       </path>\n",
      "       <path d=\"M42.23 4.96h128.66v.27H42.23z\">\n",
      "       </path>\n",
      "      </svg>\n",
      "      <ul>\n",
      "       <li>\n",
      "        <a class=\"terms\" href=\"https://www.travian.com/international/agb.php\" target=\"_blank\" title=\"\">\n",
      "         Terms\n",
      "        </a>\n",
      "       </li>\n",
      "       <li>\n",
      "        <a class=\"imprint\" href=\"https://www.travian.com/international/impressum.php\" target=\"_blank\" title=\"\">\n",
      "         Imprint\n",
      "        </a>\n",
      "       </li>\n",
      "      </ul>\n",
      "      <p class=\"copyright\">\n",
      "       © 2004 - 2020 Travian Games GmbH\n",
      "      </p>\n",
      "     </nav>\n",
      "    </div>\n",
      "   </div>\n",
      "   <div id=\"bodyWrapper\">\n",
      "    <img alt=\"\" id=\"msfilter\" src=\"/img/x.gif\" style=\"filter:chroma();\"/>\n",
      "    <div id=\"center\">\n",
      "     <div class=\"sidebar beforeContent\" id=\"sidebarBeforeContent\">\n",
      "      <div class=\"sidebarBoxWrapper\">\n",
      "       <div class=\"sidebarBox\" id=\"sidebarBoxMenu\">\n",
      "        <div class=\"header noHeader\">\n",
      "        </div>\n",
      "        <div class=\"content\">\n",
      "         <ul>\n",
      "          <li class=\"first\">\n",
      "           <a href=\"https://www.travian.com/international\" target=\"_blank\" title=\"Homepage\">\n",
      "            HOMEPAGE\n",
      "           </a>\n",
      "          </li>\n",
      "          <li class=\"active\">\n",
      "           <a href=\"/login.php\" title=\"Login\">\n",
      "            LOGIN\n",
      "           </a>\n",
      "          </li>\n",
      "          <li>\n",
      "           <a href=\"https://www.travian.com/international?server=75840000-f272-11ea-0a20-000000000000#register\" target=\"_blank\" title=\"Register\">\n",
      "            REGISTER\n",
      "           </a>\n",
      "          </li>\n",
      "          <li>\n",
      "           <a href=\"https://forum.travian.com/\" target=\"_blank\" title=\"Forum\">\n",
      "            FORUM\n",
      "           </a>\n",
      "          </li>\n",
      "          <li>\n",
      "           <a href=\"http://support.travian.com/en/support/tickets/new\" target=\"blank\" title=\"Support\">\n",
      "            SUPPORT\n",
      "           </a>\n",
      "          </li>\n",
      "         </ul>\n",
      "        </div>\n",
      "       </div>\n",
      "      </div>\n",
      "      <div class=\"clear\">\n",
      "      </div>\n",
      "     </div>\n",
      "     <div class=\"size1\" id=\"contentOuterContainer\">\n",
      "      <div class=\"contentTitle\">\n",
      "       <a class=\"contentTitleButton buttonFramed withIcon rectangle green\" href=\"https://answers.travian.com/index.php?aid=8#go2answer\" id=\"answersButton\" target=\"_blank\" title=\"Travian Answers\">\n",
      "       </a>\n",
      "      </div>\n",
      "      <div class=\"contentContainer\">\n",
      "       <div class=\"login\" id=\"content\">\n",
      "        <h1 class=\"titleInHeader\">\n",
      "         Login\n",
      "        </h1>\n",
      "        <div class=\"outerLoginBox\">\n",
      "         <h2>\n",
      "          Welcome to server Shadow Empires - ASIA - 1x!\n",
      "         </h2>\n",
      "         <noscript>\n",
      "          <div class=\"noJavaScript\">\n",
      "           JavaScript is deactivated. You must activate it in your browser settings to be able to play Travian.\n",
      "          </div>\n",
      "         </noscript>\n",
      "         <div class=\"innerLoginBox\">\n",
      "          <form action=\"/login.php\" method=\"POST\" name=\"login\">\n",
      "           <table class=\"transparent loginTable\">\n",
      "            <tr class=\"account\">\n",
      "             <td class=\"accountNameOrEmailAddress\">\n",
      "              Account name or e-mail address\n",
      "             </td>\n",
      "             <td>\n",
      "              <input class=\"text\" name=\"name\" type=\"text\" value=\"\"/>\n",
      "              <br/>\n",
      "              <div class=\"error\" style=\"width:145px;\">\n",
      "              </div>\n",
      "             </td>\n",
      "             <td>\n",
      "             </td>\n",
      "            </tr>\n",
      "            <tr class=\"pass\">\n",
      "             <td>\n",
      "              Password\n",
      "             </td>\n",
      "             <td>\n",
      "              <input class=\"text\" maxlength=\"100\" name=\"password\" type=\"password\" value=\"\"/>\n",
      "              <br/>\n",
      "              <div class=\"error LTR\">\n",
      "              </div>\n",
      "             </td>\n",
      "             <td>\n",
      "             </td>\n",
      "            </tr>\n",
      "            <tr class=\"lowResOption\">\n",
      "             <td>\n",
      "              Version for player\n",
      "             </td>\n",
      "             <td colspan=\"2\">\n",
      "              <label>\n",
      "               <input class=\"check\" name=\"lowRes\" type=\"checkbox\" value=\"1\"/>\n",
      "               with low bandwidth (internet connection speed)\n",
      "              </label>\n",
      "             </td>\n",
      "            </tr>\n",
      "            <tr class=\"lowResInfo\">\n",
      "             <td>\n",
      "             </td>\n",
      "             <td colspan=\"2\">\n",
      "              (Note: this version of the map doesn't have all the options enabled)\n",
      "             </td>\n",
      "            </tr>\n",
      "            <tr class=\"loginButtonRow\">\n",
      "             <td>\n",
      "             </td>\n",
      "             <td>\n",
      "              <button class=\"textButtonV1 green\" id=\"s1\" name=\"s1\" onclick=\"document.login.w.value=screen.width+':'+screen.height;\" type=\"submit\" value=\"Login\" version=\"textButtonV1\">\n",
      "               Login\n",
      "              </button>\n",
      "              <script id=\"s1_script\" type=\"text/javascript\">\n",
      "               jQuery(function() {\n",
      "        jQuery('button#s1').click(function () {\n",
      "            jQuery(window).trigger('buttonClicked', [this, {\"type\":\"submit\",\"value\":\"Login\",\"name\":\"s1\",\"id\":\"s1\",\"class\":\"textButtonV1 green \",\"title\":\"\",\"confirm\":\"\",\"onclick\":\"document.login.w.value=screen.width+\\u0027:\\u0027+screen.height;\",\"version\":\"textButtonV1\"}]);\n",
      "        });\n",
      "\t});\n",
      "              </script>\n",
      "              <input name=\"w\" type=\"hidden\" value=\"\"/>\n",
      "              <input name=\"login\" type=\"hidden\" value=\"1601173197\"/>\n",
      "             </td>\n",
      "             <td>\n",
      "             </td>\n",
      "            </tr>\n",
      "           </table>\n",
      "          </form>\n",
      "         </div>\n",
      "         <div class=\"greenbox passwordForgotten\">\n",
      "          <div class=\"greenbox-top\">\n",
      "          </div>\n",
      "          <div class=\"greenbox-content\">\n",
      "           <div class=\"passwordForgottenLink\">\n",
      "            <a class=\"showPWForgottenLink\" href=\"https://www.travian.com/international?server=75840000-f272-11ea-0a20-000000000000#forgotpassword\">\n",
      "             <img alt=\"forgotten password\" class=\"close\" id=\"arrow\" src=\"/img/x.gif\"/>\n",
      "             Password forgotten?\n",
      "            </a>\n",
      "           </div>\n",
      "          </div>\n",
      "          <div class=\"greenbox-bottom\">\n",
      "          </div>\n",
      "          <div class=\"clear\">\n",
      "          </div>\n",
      "         </div>\n",
      "        </div>\n",
      "        <div class=\"clear\">\n",
      "        </div>\n",
      "       </div>\n",
      "       <div class=\"clear\">\n",
      "       </div>\n",
      "      </div>\n",
      "      <div class=\"contentFooter\">\n",
      "      </div>\n",
      "     </div>\n",
      "     <div class=\"sidebar afterContent\" id=\"sidebarAfterContent\">\n",
      "      <div class=\"sidebarBoxWrapper\">\n",
      "      </div>\n",
      "      <div class=\"clear\">\n",
      "      </div>\n",
      "     </div>\n",
      "     <div class=\"clear\">\n",
      "     </div>\n",
      "    </div>\n",
      "    <div class=\"size1\" id=\"footer\">\n",
      "     <div id=\"pageLinks\">\n",
      "      <a href=\"https://www.travian.com/international\" target=\"_blank\">\n",
      "       Homepage\n",
      "      </a>\n",
      "      <a href=\"https://forum.travian.com/\" target=\"_blank\">\n",
      "       Forum\n",
      "      </a>\n",
      "      <a href=\"https://www.travian.com/international/links.php\" target=\"_blank\">\n",
      "       Links\n",
      "      </a>\n",
      "      <a href=\"https://answers.travian.com/\" target=\"_blank\">\n",
      "       FAQ - Answers\n",
      "      </a>\n",
      "      <a href=\"https://www.travian.com/international/gamerules\" target=\"_blank\">\n",
      "       Game rules\n",
      "      </a>\n",
      "      <a href=\"https://www.travian.com/international/agb.php\" target=\"_blank\">\n",
      "       Terms\n",
      "      </a>\n",
      "      <a href=\"https://www.travian.com/international/impressum.php\" target=\"_blank\">\n",
      "       Imprint\n",
      "      </a>\n",
      "      <div class=\"clear\">\n",
      "      </div>\n",
      "     </div>\n",
      "     <p class=\"copyright\">\n",
      "      © 2004 - 2020 Travian Games GmbH\n",
      "     </p>\n",
      "    </div>\n",
      "   </div>\n",
      "   <div id=\"ce\">\n",
      "   </div>\n",
      "  </div>\n",
      "  <script type=\"text/javascript\">\n",
      "   var T4_feature_flags = {\"vacationMode\":true,\"territory\":true,\"heroitems\":true,\"allianceBonus\":true,\"boostedStart\":false,\"tribesEgyptiansAndHuns\":true,\"hideFoolsArtifacts\":true,\"resourcesInHeroBag\":true,\"useAdventureSpawnTime\":true,\"adventuresDecay\":false,\"contextHelp\":true,\"multi_language\":true,\"sittingOnlyFriends\":true,\"lockingRegionsAgain\":true,\"factions\":true,\"healHeroOnLevelUp\":true};\n",
      "\t\t\tTravian.Game.language = \"en-US\";\n",
      "\n",
      "                            Travian.Game.contextHelpData = [];\n",
      "                Travian.Game.ContextualHelp.initialize();\n",
      "            \n",
      "            \n",
      "                            Travian.Game.Layout.initMobileOptimizations();\n",
      "            \n",
      "            Travian.Game.PaymentWizardEventListener.defaultOptions = {\"shopUIVersion\":3,\"version\":1,\"cssClass\":\"paymentShopV3 brown\"};\n",
      "  </script>\n",
      " </body>\n",
      "</html>\n",
      "\n"
     ]
    }
   ],
   "source": [
    "response = session.get(f'{travian_url}/login.php')\n",
    "soup = BeautifulSoup(response.text)\n",
    "print(soup.prettify())"
   ],
   "metadata": {
    "collapsed": false,
    "pycharm": {
     "name": "#%%\n"
    }
   }
  },
  {
   "cell_type": "code",
   "execution_count": 38,
   "outputs": [],
   "source": [
    "login_num = soup.find('input', attrs={'name':'login'}).attrs['value']"
   ],
   "metadata": {
    "collapsed": false,
    "pycharm": {
     "name": "#%%\n"
    }
   }
  },
  {
   "cell_type": "code",
   "execution_count": 40,
   "outputs": [
    {
     "data": {
      "text/plain": "<Response [200]>"
     },
     "execution_count": 40,
     "metadata": {},
     "output_type": "execute_result"
    }
   ],
   "source": [
    "post_data = {'name': username, 'password': password, 's1': 'Login',\n",
    "             'w': '1440:900', 'login': login_num}\n",
    "session.post(f'{travian_url}/login.php', data=post_data)\n",
    "# soup = BeautifulSoup(response.text)"
   ],
   "metadata": {
    "collapsed": false,
    "pycharm": {
     "name": "#%%\n"
    }
   }
  },
  {
   "cell_type": "markdown",
   "source": [
    "### 獲取bid頁面"
   ],
   "metadata": {
    "collapsed": false
   }
  },
  {
   "cell_type": "code",
   "execution_count": 41,
   "outputs": [],
   "source": [
    "# 獲取bid頁面\n",
    "response = session.get(f'{travian_url}/hero.php?t=4')\n",
    "soup = BeautifulSoup(response.text)"
   ],
   "metadata": {
    "collapsed": false,
    "pycharm": {
     "name": "#%%\n"
    }
   }
  },
  {
   "cell_type": "code",
   "execution_count": 8,
   "outputs": [],
   "source": [
    "# 刷新bid頁面\n",
    "response = session.get(f'{travian_url}/hero.php?t=4&reload=auto')\n",
    "soup = BeautifulSoup(response.text)"
   ],
   "metadata": {
    "collapsed": false,
    "pycharm": {
     "name": "#%%\n"
    }
   }
  },
  {
   "cell_type": "code",
   "execution_count": 74,
   "outputs": [
    {
     "name": "stdout",
     "output_type": "stream",
     "text": [
      "['5', ' Ointment']\n",
      "4\n",
      "201\n",
      "['5', ' Ointment']\n",
      "4\n",
      "201\n",
      "['5', ' Ointment']\n",
      "3\n",
      "200\n",
      "['5', ' Ointment']\n",
      "3\n",
      "200\n",
      "['10', ' Small Bandage']\n",
      "12\n",
      "112\n",
      "['1', ' Helmet of the Horseman']\n",
      "14\n",
      "755\n",
      "['5', ' Cage']\n",
      "6\n",
      "1400\n",
      "['10', ' Cage']\n",
      "6\n",
      "2001\n",
      "['1', ' Short Bow of the Resheph Chariot']\n",
      "4\n",
      "3314\n",
      "['10', ' Ointment']\n",
      "5\n",
      "303\n",
      "['1', ' Book of Wisdom']\n",
      "6\n",
      "1000\n",
      "['5', ' Small Bandage']\n",
      "2\n",
      "11\n",
      "['10', ' Cage']\n",
      "5\n",
      "2000\n",
      "['5', ' Cage']\n",
      "5\n",
      "1000\n",
      "['10', ' Small Bandage']\n",
      "0\n",
      "10\n",
      "['5', ' Cage']\n",
      "5\n",
      "1000\n",
      "['10', ' Ointment']\n",
      "2\n",
      "300\n",
      "['10', ' Ointment']\n",
      "2\n",
      "300\n",
      "['5', ' Cage']\n",
      "3\n",
      "300\n",
      "['1', ' Book of Wisdom']\n",
      "2\n",
      "538\n"
     ]
    }
   ],
   "source": [
    "bid_table = soup.find('table')\n",
    "bid_tbody = bid_table.find('tbody')\n",
    "bid_trs = bid_tbody.find_all('tr')\n",
    "for bid_tr in bid_trs:\n",
    "    print(bid_tr.find(class_='name').text.strip().replace('\\u202d\\u202d', '').split('\\u202c×\\u202c'))\n",
    "    print(bid_tr.find(class_='bids').text.strip())\n",
    "    print(bid_tr.find(class_='silver').text.strip())"
   ],
   "metadata": {
    "collapsed": false,
    "pycharm": {
     "name": "#%%\n"
    }
   }
  },
  {
   "cell_type": "code",
   "execution_count": 87,
   "outputs": [
    {
     "name": "stdout",
     "output_type": "stream",
     "text": [
      "時間:166, 數量:5, 產品:Ointment, 單價:40.2\n",
      "時間:670, 數量:5, 產品:Ointment, 單價:40.2\n",
      "時間:1339, 數量:5, 產品:Ointment, 單價:40.0\n",
      "時間:1588, 數量:5, 產品:Ointment, 單價:40.0\n",
      "時間:1939, 數量:10, 產品:Small Bandage, 單價:11.2\n",
      "時間:2380, 數量:1, 產品:Helmet of the Horseman, 單價:755.0\n",
      "時間:2536, 數量:5, 產品:Cage, 單價:280.0\n",
      "時間:3077, 數量:10, 產品:Cage, 單價:200.1\n",
      "時間:3249, 數量:1, 產品:Short Bow of the Resheph Chariot, 單價:3314.0\n",
      "時間:3816, 數量:10, 產品:Ointment, 單價:30.3\n",
      "時間:4398, 數量:1, 產品:Book of Wisdom, 單價:1000.0\n",
      "時間:4425, 數量:5, 產品:Small Bandage, 單價:2.2\n",
      "時間:5587, 數量:10, 產品:Cage, 單價:200.0\n",
      "時間:5753, 數量:5, 產品:Cage, 單價:200.0\n",
      "時間:5841, 數量:10, 產品:Small Bandage, 單價:1.0\n",
      "時間:5868, 數量:5, 產品:Cage, 單價:200.0\n",
      "時間:6416, 數量:10, 產品:Ointment, 單價:30.0\n",
      "時間:6556, 數量:10, 產品:Ointment, 單價:30.0\n",
      "時間:6759, 數量:5, 產品:Cage, 單價:60.0\n",
      "時間:7236, 數量:1, 產品:Book of Wisdom, 單價:538.0\n"
     ]
    }
   ],
   "source": [
    "for bid_tr in bid_trs:\n",
    "    amount, name = bid_tr.find(class_='name').text.strip().split('\\u202c×\\u202c')\n",
    "    amount = int(amount.replace('\\u202d\\u202d', '').strip())\n",
    "    name = name.strip()\n",
    "    bids = bid_tr.find(class_='bids').text.strip()\n",
    "    silver = int(bid_tr.find(class_='silver').text.strip())\n",
    "    silver_unit = silver / amount\n",
    "    time = bid_tr.find(class_='timer').attrs['value']\n",
    "    print(f'時間:{time}, 數量:{amount}, 產品:{name}, 單價:{silver_unit}')\n"
   ],
   "metadata": {
    "collapsed": false,
    "pycharm": {
     "name": "#%%\n"
    }
   }
  },
  {
   "cell_type": "code",
   "execution_count": 16,
   "outputs": [
    {
     "name": "stdout",
     "output_type": "stream",
     "text": [
      "None\n"
     ]
    }
   ],
   "source": [
    "# print(soup.prettify())\n",
    "print()"
   ],
   "metadata": {
    "collapsed": false,
    "pycharm": {
     "name": "#%%\n"
    }
   }
  }
 ],
 "metadata": {
  "kernelspec": {
   "display_name": "Python 3",
   "language": "python",
   "name": "python3"
  },
  "language_info": {
   "codemirror_mode": {
    "name": "ipython",
    "version": 2
   },
   "file_extension": ".py",
   "mimetype": "text/x-python",
   "name": "python",
   "nbconvert_exporter": "python",
   "pygments_lexer": "ipython2",
   "version": "2.7.6"
  }
 },
 "nbformat": 4,
 "nbformat_minor": 0
}